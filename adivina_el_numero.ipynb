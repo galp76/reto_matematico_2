{
 "cells": [
  {
   "cell_type": "code",
   "execution_count": null,
   "id": "dress-element",
   "metadata": {},
   "outputs": [],
   "source": [
    "import random\n",
    "import time\n",
    "\n",
    "numero = random.randint(1, 100)\n",
    "intentos = 6\n",
    "n = 0\n",
    "\n",
    "time.sleep(2)\n",
    "print('Hola Germán, ya tengo el numero, tienes 6 intentos para determinar cual es...')\n",
    "while True:\n",
    "    time.sleep(2)\n",
    "    print('Por favor escribe un numero y presiona ENTER')\n",
    "    entrada = int(input())\n",
    "    n = n + 1\n",
    "    time.sleep(2)\n",
    "    if entrada == numero:\n",
    "        print('Correcto!!!')\n",
    "        time.sleep(2) \n",
    "        print('Felicitaciones!!!')\n",
    "        time.sleep(2) \n",
    "        print(f'Usaste {n} intentos!!!')\n",
    "        break\n",
    "    elif entrada > numero:\n",
    "        print(f'Incorrecto, tu numero es mayor...')\n",
    "        time.sleep(2)\n",
    "        if n == 6:\n",
    "            print('Ya usaste los 6 intentos...')\n",
    "            time:sleep(2)\n",
    "            print('Juego terminado')\n",
    "            break\n",
    "        else:\n",
    "            print(f'Te quedan {intentos - n} intentos')\n",
    "    else:\n",
    "        print(f'Incorrecto, tu numero es menor...')\n",
    "        time.sleep(2)\n",
    "        if n == 6:\n",
    "            print('Ya usaste los 6 intentos...')\n",
    "            time.sleep(2)\n",
    "            print('Juego terminado')\n",
    "            break\n",
    "        else:\n",
    "            print(f'Te quedan {intentos - n} intentos')\n",
    "\n"
   ]
  }
 ],
 "metadata": {
  "kernelspec": {
   "display_name": "Python 3",
   "language": "python",
   "name": "python3"
  },
  "language_info": {
   "codemirror_mode": {
    "name": "ipython",
    "version": 3
   },
   "file_extension": ".py",
   "mimetype": "text/x-python",
   "name": "python",
   "nbconvert_exporter": "python",
   "pygments_lexer": "ipython3",
   "version": "3.9.2"
  }
 },
 "nbformat": 4,
 "nbformat_minor": 5
}
